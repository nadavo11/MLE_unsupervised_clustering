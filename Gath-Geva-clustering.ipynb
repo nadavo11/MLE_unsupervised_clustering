{
 "cells": [
  {
   "cell_type": "markdown",
   "source": [
    "# Gath - Geva Clustering"
   ],
   "metadata": {
    "collapsed": false
   }
  },
  {
   "cell_type": "code",
   "execution_count": null,
   "outputs": [],
   "source": [
    "\n",
    "import numpy as np"
   ],
   "metadata": {
    "collapsed": false,
    "pycharm": {
     "is_executing": true
    }
   }
  },
  {
   "cell_type": "markdown",
   "source": [
    "First thing first, let's use the generator tools from previous works"
   ],
   "metadata": {
    "collapsed": false
   }
  },
  {
   "cell_type": "code",
   "execution_count": null,
   "outputs": [],
   "source": [
    "import numpy as np\n",
    "import matplotlib.pyplot as plt\n",
    "\n",
    "\n",
    "def get_random_covariance(d):\n",
    "    \"\"\"\n",
    "    Function to generate a random, valid covariance matrix of size d x d\n",
    "    \"\"\"\n",
    "    sigma = np.random.rand(d, d) - 0.5\n",
    "    sigma = np.dot(sigma, sigma.T)  # make the matrix symmetric\n",
    "    return sigma\n",
    "\n",
    "\n",
    "def get_random_gaussian_dist(d, distance=5):\n",
    "    \"\"\"\n",
    "     generate a random Gaussian distribution with mean mu and covariance matrix sigma\n",
    "    The distance parameter specifies the distance of the mean from the origin\n",
    "    \"\"\"\n",
    "    sigma = get_random_covariance(d)  # generate a random covariance matrix\n",
    "    mu = np.array(np.random.rand(d)) * distance  # generate a random mean\n",
    "    return mu, sigma\n",
    "\n",
    "\n",
    "def generate_normal_datapoint(guaussian_dist):\n",
    "    \"\"\"\n",
    "     generate a single datapoint from a Gaussian distribution with mean and covariance matrix guaussian_dist\n",
    "    \"\"\"\n",
    "    mean = guaussian_dist[0]\n",
    "    cov = guaussian_dist[1]\n",
    "    dp = np.random.multivariate_normal(mean, cov, check_valid='warn', tol=1e-8)\n",
    "    return dp\n",
    "\n",
    "\n",
    "def generate_gaussian_cluster(guaussian_dist, k,d = 2, dataset=None):\n",
    "    \"\"\"\n",
    "    Function to generate a cluster of k datapoints from the Gaussian distribution guaussian_dist\n",
    "    The dataset parameter can be used to append the generated cluster to an existing dataset\n",
    "    gauss_dist is a tuple of the form (mean, covariance matrix)\n",
    "    \"\"\"\n",
    "    cluster = np.empty((0, d))  # initialize an empty array to store the datapoints\n",
    "    for i in range(k):\n",
    "        p = generate_normal_datapoint(guaussian_dist)  # generate a single datapoint\n",
    "        cluster = np.append(cluster, [p], axis=0)  # add the datapoint to the cluster\n",
    "    if dataset:\n",
    "        dataset = np.append(dataset, cluster)  # append the cluster to an existing dataset, if provided\n",
    "    return cluster\n",
    "def generate_clusters(n,k,d):\n",
    "    colors =[]\n",
    "    clusters = []\n",
    "    # for k clusters:\n",
    "    for i in range (k):\n",
    "        cluster = generate_gaussian_cluster(get_random_gaussian_dist(d),n[i],d = d)\n",
    "        clusters.append([cluster])\n",
    "        #colors.append(np.random.uniform(0,1)/4+3*k/4)\n",
    "    return clusters\n",
    "\n",
    "def plot_clusters(*args):\n",
    "    for arg in args:\n",
    "        plt.scatter(arg[:,0], arg[:, 1],  alpha=0.5)\n",
    "\n",
    "def plot_loss(loss):\n",
    "    plt.plot(range(len(loss)),loss)\n",
    "    plt.title(\"loss vs. iteration no.\")\n",
    "    plt.xlabel(\"iteration\")\n",
    "    plt.ylabel(\"|loss|\")\n",
    "    plt.show()\n"
   ],
   "metadata": {
    "collapsed": false,
    "pycharm": {
     "is_executing": true
    }
   }
  },
  {
   "cell_type": "markdown",
   "source": [
    "# Classical fuzzy clustering: FCM\n",
    "Fuzzy C-means (FCM) is a clustering algorithm that is used to partition data points $\\{x_i\\}_1^n$ into a predefined number of clusters $c$. The algorithm is a 'soft' clustering method, which allows each data point to belong to multiple clusters to a certain degree.\n",
    "\n",
    "The FCM algorithm can be summarized as follows:\n",
    "\n",
    "1. Initialize the cluster centers.\n",
    "2. Calculate the membership degrees of each data point to each cluster.\n",
    "$$ p(w_j|x_i) \\leftarrow\n",
    "    \\frac\n",
    "        {({\\frac{1}{d_{ij} ^2 })^{1/b-1}}}\n",
    "        {\\sum_{i=1}^N({\\frac{1}{d_{ij} ^2 })^{1/b-1}}}\n",
    "        $$\n",
    "\n",
    "\n",
    "3. Update the cluster centers based on the membership degrees.\n",
    "$$\\mu_{cx} \\leftarrow \\frac{\n",
    "        \\sum_{i=1}^N \\hat p(w_i|x_j)^b \\cdot x_j}\n",
    "    {\n",
    "        \\sum_{i=1}^N \\hat p(w_i|x_j)^b }$$\n",
    "\n",
    "Repeat steps 2-3 until the cluster centers converge.\n",
    "\n",
    "\n",
    "where $d_{ij} = d(x_i,c_j)$ is the distance between the data point $x$ and the cluster center $c_i$, $b$ is a fuzzifier parameter, and $C$ is the number of clusters.\n",
    "\n",
    "The FCM algorithm is a versatile clustering algorithm that can be used to cluster data of different types. It is also relatively robust to noise and outliers.\n",
    "\n"
   ],
   "metadata": {
    "collapsed": false
   }
  },
  {
   "cell_type": "markdown",
   "source": [],
   "metadata": {
    "collapsed": false
   }
  },
  {
   "cell_type": "code",
   "execution_count": null,
   "outputs": [
    {
     "name": "stdout",
     "output_type": "stream",
     "text": [
      "hey\n",
      "hey\n",
      "hey\n",
      "hey\n",
      "hey\n",
      "hey\n",
      "hey\n",
      "hey\n",
      "hey\n",
      "hey\n",
      "hey\n",
      "hey\n",
      "hey\n",
      "hey\n",
      "hey\n",
      "hey\n",
      "hey\n",
      "hey\n",
      "hey\n",
      "hey\n",
      "hey\n",
      "hey\n",
      "hey\n",
      "hey\n",
      "hey\n",
      "hey\n",
      "hey\n",
      "hey\n",
      "hey\n",
      "hey\n",
      "hey\n",
      "hey\n",
      "hey\n",
      "hey\n",
      "hey\n",
      "hey\n",
      "hey\n",
      "hey\n",
      "hey\n",
      "hey\n",
      "hey\n",
      "hey\n",
      "hey\n",
      "hey\n",
      "hey\n",
      "hey\n",
      "hey\n",
      "hey\n",
      "hey\n",
      "hey\n",
      "hey\n",
      "hey\n",
      "hey\n",
      "hey\n",
      "hey\n",
      "hey\n",
      "hey\n",
      "hey\n",
      "hey\n",
      "hey\n",
      "hey\n",
      "hey\n",
      "hey\n",
      "hey\n",
      "hey\n",
      "hey\n",
      "hey\n",
      "hey\n",
      "hey\n",
      "hey\n",
      "hey\n",
      "hey\n",
      "hey\n",
      "hey\n",
      "hey\n",
      "hey\n",
      "hey\n",
      "hey\n",
      "hey\n",
      "hey\n",
      "hey\n",
      "hey\n",
      "hey\n",
      "hey\n",
      "hey\n",
      "hey\n",
      "hey\n",
      "hey\n",
      "hey\n",
      "hey\n",
      "hey\n",
      "hey\n",
      "hey\n",
      "hey\n",
      "hey\n",
      "hey\n",
      "hey\n",
      "hey\n",
      "hey\n",
      "hey\n",
      "hey\n",
      "hey\n",
      "hey\n",
      "hey\n",
      "hey\n",
      "hey\n",
      "hey\n",
      "hey\n",
      "hey\n",
      "hey\n",
      "hey\n",
      "hey\n",
      "hey\n"
     ]
    },
    {
     "name": "stderr",
     "output_type": "stream",
     "text": [
      "\n",
      "KeyboardInterrupt\n",
      "\n"
     ]
    },
    {
     "name": "stdout",
     "output_type": "stream",
     "text": [
      "Error in callback <function _draw_all_if_interactive at 0x000001EB757EEC20> (for post_execute):\n"
     ]
    },
    {
     "name": "stderr",
     "output_type": "stream",
     "text": [
      "\n",
      "KeyboardInterrupt\n",
      "\n"
     ]
    },
    {
     "data": {
      "text/plain": "<Figure size 640x480 with 1 Axes>",
      "image/png": "[encoded data removed]"
     },
     "metadata": {},
     "output_type": "display_data"
    },
    {
     "name": "stdout",
     "output_type": "stream",
     "text": [
      "Error in callback <function flush_figures at 0x000001EB757FFB50> (for post_execute):\n"
     ]
    },
    {
     "name": "stderr",
     "output_type": "stream",
     "text": [
      "\n",
      "KeyboardInterrupt\n",
      "\n"
     ]
    }
   ],
   "source": [
    "import numpy as np\n",
    "\n",
    "def fcm(data, K, initial_centroids, max_iters = 50, fuzziness = 2, tol = 0.001):\n",
    "    # Randomly initialize cluster centers\n",
    "    centroids = initial_centroids\n",
    "    i=0\n",
    "    converged = False\n",
    "    iteration_loss = []\n",
    "    while (not converged) or i < max_iters:\n",
    "        # Calculate the membership matrix\n",
    "        distances = np.linalg.norm(data[:, None] - centroids, axis=2)\n",
    "        membership = 1 / (distances ** (2 / (fuzziness - 1)))\n",
    "        membership = membership / np.sum(membership, axis=1)[:, None]\n",
    "\n",
    "        # Update cluster centers\n",
    "        centroids = np.dot(membership.T, data) / np.sum(membership, axis=0)[:, None]\n",
    "\n",
    "        plt.figure()\n",
    "        c = np.argmax(membership,axis=1)\n",
    "        plt.scatter(data[:,0], data[:, 1],  c=c,alpha=0.5)\n",
    "        plt.title(f'iteration {i}')\n",
    "\n",
    "        loss = np.sum((distances**2) * membership)\n",
    "        iteration_loss.append(loss)\n",
    "        print(i)\n",
    "\n",
    "        if i:\n",
    "            converged = (abs(loss-iteration_loss[i-1]-loss) < tol)\n",
    "        i+=1\n",
    "\n",
    "    return centroids, membership, iteration_loss\n",
    "\n",
    "K = 2\n",
    "max_iters = 10\n",
    "fuzziness = 2\n",
    "\n",
    "\n",
    "# Example usage\n",
    "cluster_0 = generate_gaussian_cluster(get_random_gaussian_dist(2),100)\n",
    "cluster_1 = generate_gaussian_cluster(get_random_gaussian_dist(2),100)\n",
    "\n",
    "# unify data\n",
    "data = np.concatenate((cluster_0,cluster_1))\n",
    "\n",
    "# initialize random centroids\n",
    "centroids = np.random.rand(K, data.shape[1])\n",
    "\n",
    "centroids, membership, loss = fcm(data, K, centroids,max_iters = max_iters, fuzziness = fuzziness)\n",
    "plot_loss(loss)\n",
    "\n",
    "\n"
   ],
   "metadata": {
    "collapsed": false
   }
  },
  {
   "cell_type": "code",
   "execution_count": 38,
   "outputs": [
    {
     "name": "stdout",
     "output_type": "stream",
     "text": [
      "Error in callback <function _draw_all_if_interactive at 0x000001EB757EEC20> (for post_execute):\n"
     ]
    },
    {
     "name": "stderr",
     "output_type": "stream",
     "text": [
      "\n",
      "KeyboardInterrupt\n",
      "\n"
     ]
    }
   ],
   "source": [],
   "metadata": {
    "collapsed": false
   }
  },
  {
   "cell_type": "code",
   "execution_count": null,
   "outputs": [],
   "source": [],
   "metadata": {
    "collapsed": false,
    "pycharm": {
     "is_executing": true
    }
   }
  },
  {
   "cell_type": "code",
   "execution_count": 38,
   "outputs": [
    {
     "name": "stdout",
     "output_type": "stream",
     "text": [
      "Error in callback <function _draw_all_if_interactive at 0x000001EB757EEC20> (for post_execute):\n"
     ]
    },
    {
     "name": "stderr",
     "output_type": "stream",
     "text": [
      "\n",
      "KeyboardInterrupt\n",
      "\n"
     ]
    }
   ],
   "source": [],
   "metadata": {
    "collapsed": false
   }
  }
 ],
 "metadata": {
  "kernelspec": {
   "display_name": "Python 3",
   "language": "python",
   "name": "python3"
  },
  "language_info": {
   "codemirror_mode": {
    "name": "ipython",
    "version": 2
   },
   "file_extension": ".py",
   "mimetype": "text/x-python",
   "name": "python",
   "nbconvert_exporter": "python",
   "pygments_lexer": "ipython2",
   "version": "2.7.6"
  }
 },
 "nbformat": 4,
 "nbformat_minor": 0
}
